{
 "cells": [
  {
   "cell_type": "code",
   "execution_count": 1,
   "metadata": {},
   "outputs": [],
   "source": [
    "# import packages\n",
    "import pandas as pd\n",
    "import numpy as np\n",
    "import knackpy as kp\n",
    "import fulcrum as fc\n",
    "import requests\n",
    "import pdb\n",
    "\n",
    "# import credentials\n",
    "# from config.secrets import *"
   ]
  },
  {
   "cell_type": "code",
   "execution_count": 2,
   "metadata": {},
   "outputs": [],
   "source": [
    "# %load config/secrets.py"
   ]
  },
  {
   "cell_type": "code",
   "execution_count": 5,
   "metadata": {
    "scrolled": false
   },
   "outputs": [
    {
     "name": "stdout",
     "output_type": "stream",
     "text": [
      "{'form': {'name': 'Signal PM', 'description': None, 'version': 109, 'bounding_box': [30.266033, -97.8995454, 30.4979097, -97.6793988], 'record_title_key': '6080', 'title_field_keys': ['6080'], 'status_field': {'type': 'StatusField', 'label': 'Status', 'key': '@status', 'data_name': 'status', 'default_value': 'incomplete', 'enabled': False, 'read_only': True, 'hidden': False, 'description': '', 'choices': [{'label': 'Not Complete', 'value': 'incomplete', 'color': '#CB0D0C'}, {'label': 'Completed', 'value': 'completed', 'color': '#2D5D00'}], 'required': False, 'disabled': False, 'default_previous_value': False}, 'auto_assign': False, 'hidden_on_dashboard': False, 'record_count': 40, 'geometry_types': ['Point'], 'geometry_required': False, 'script': \"function setStatus() {\\n  SETSTATUS('completed')\\n}\\n\\n// config\\nvar signals = { \\n    'id' : 'xwqn-2f78',\\n    'label_field' : 'location_name',\\n    'value_field' : 'signal_id',\\n    'search_distance' : 200,  //  meters\\n};\\n\\n//  use to limit looping socrata request attempts\\nvar request_attempts = 0;\\n\\n//  get nearest signal\\n//  if no signal found within search distance, get all signals\\nON('load-record', getLocation);\\n\\nfunction getLocation(){\\n    //  attempt to get location when record loads\\n    //  stop when location is found, or after specified SETIMEOUT\\n    var interval = SETINTERVAL(function() {\\n\\n        var location = CURRENTLOCATION();\\n\\n        if (location) {\\n            CLEARINTERVAL(interval);\\n            getSignal(location);\\n        }\\n\\n    }, 1000);\\n\\n    SETTIMEOUT(function() {\\n        CLEARINTERVAL(interval);\\n    }, 10000);\\n\\n}\\n\\n\\nfunction getSignal(location, get_all=false) {\\n    //  get nearby signals from socrata and set selection choices\\n    var search_distance = signals.search_distance;\\n\\n    if (get_all) {\\n        search_distance = 100000;\\n    }\\n\\n    var url = 'https://data.austintexas.gov/resource/' + signals.id + '.json';\\n\\n    var options = buildRequestParams(\\n        url,\\n        location['latitude'],\\n        location['longitude'],\\n        search_distance=search_distance\\n    );\\n    \\n    //  show modal\\n    PROGRESS('Searching for nearby signals...');\\n\\n    REQUEST(options, function(error, response, body) {\\n        //  Exec this function after GET data from socrata endpoint\\n\\n        //  hide progress modal\\n        PROGRESS();\\n\\n        if (error) {\\n            ALERT('Error with request: ' + options.url);\\n        } else {\\n            var data = JSON.parse(body);\\n            if (data.length) {\\n                //  populate field selection choices with features\\n                var choices = getChoices(signals.label_field, signals.value_field, data);\\n                SETCHOICES('signal', choices);\\n\\n                if (!$signal) {\\n                    //  if there is no signal selected\\n                    //  set field label and value to nearest feature (ie the first one)\\n                    // SETVALUE('signal', choices[0][0]);\\n                    SETVALUE('signal', choices[0]);\\n                };\\n\\n            } else {\\n                if (request_attempts < 1) {\\n                    request_attempts++;\\n                    getSignal(location, get_all=true);\\n                }\\n            }\\n        }\\n\\n    });\\n\\n}\\n\\n\\nfunction buildRequestParams(url, lat, lon, search_distance=2000) {\\n    //  Format request parameters accoring to Socrata query API\\n    //  Defined here: https://dev.socrata.com/docs/queries/\\n\\n    // select distance from point to each signal and sort by closest\\n    var select = '?$query=SELECT signal_id, location_name, DISTANCE_IN_METERS(location, \\\\'POINT(' + lon + ' ' + lat + ')\\\\') AS distance';\\n    return url + select + ' WHERE control=\\\\'PRIMARY\\\\' and WITHIN_CIRCLE(location, ' + lat + ', ' + lon + ', ' + search_distance + ') ORDER BY distance ASC';    \\n}\\n\\n\\nfunction getChoices(label_field, value_field, choice_data) {\\n    var choices = [];\\n\\n    //  format response data as array of fulcrum-friendly selection choices\\n    for (var i=0; i < choice_data.length; i++) {\\n        var label = choice_data[i][label_field];\\n        var value = choice_data[i][value_field];\\n        // choices.push([label, value]);\\n\\n        //  we combine label/value to one field\\n        //  because SETVALUE only takes a string (not an array of label/value pairs)\\n        choices.push( value + ' | ' + label );\\n    }\\n\\n    return choices;\\n}\\n\\n\\n\\n\", 'projects_enabled': False, 'assignment_enabled': False, 'id': '44359e32-1a7f-41bd-b53e-3ebc039bd21a', 'created_at': '2017-12-11T23:05:23Z', 'updated_at': '2018-09-21T13:53:14Z', 'image': None, 'image_thumbnail': None, 'image_small': None, 'image_large': None, 'elements': [{'type': 'ChoiceField', 'key': '6080', 'label': 'Signal', 'description': None, 'required': True, 'disabled': False, 'hidden': False, 'data_name': 'signal', 'default_value': None, 'visible_conditions_type': None, 'visible_conditions_behavior': 'clear', 'visible_conditions': None, 'required_conditions_type': None, 'required_conditions': None, 'multiple': False, 'allow_other': False, 'choices': [{'label': 'Loading...', 'value': 'Loading...'}], 'default_previous_value': False}, {'type': 'TextField', 'key': '3666', 'label': 'Signal ID', 'description': None, 'required': False, 'disabled': False, 'hidden': True, 'data_name': 'signal_id', 'default_value': None, 'visible_conditions_type': None, 'visible_conditions_behavior': 'clear', 'visible_conditions': None, 'required_conditions_type': None, 'required_conditions': None, 'numeric': True, 'format': 'integer', 'min': None, 'max': None, 'min_length': None, 'max_length': None, 'default_previous_value': False}, {'type': 'ChoiceField', 'key': 'fce3', 'label': 'Technician(s)', 'description': None, 'required': True, 'disabled': False, 'hidden': False, 'data_name': 'technicians', 'default_value': None, 'visible_conditions_type': None, 'visible_conditions_behavior': 'clear', 'visible_conditions': None, 'required_conditions_type': None, 'required_conditions': None, 'multiple': True, 'allow_other': True, 'choice_list_id': '6e35ec27-e074-4782-ab68-2800841f95cd', 'min_length': None, 'max_length': None, 'default_previous_value': True}, {'type': 'TimeField', 'key': '3a14', 'label': 'Arrival Time', 'description': None, 'required': True, 'disabled': False, 'hidden': False, 'data_name': 'arrival_time', 'default_value': 'now', 'visible_conditions_type': None, 'visible_conditions_behavior': 'clear', 'visible_conditions': None, 'required_conditions_type': None, 'required_conditions': None, 'default_previous_value': False}, {'type': 'TimeField', 'key': 'c01c', 'label': 'Departure Time', 'description': None, 'required': True, 'disabled': False, 'hidden': False, 'data_name': 'departure_time', 'default_value': None, 'visible_conditions_type': None, 'visible_conditions_behavior': 'clear', 'visible_conditions': None, 'required_conditions_type': None, 'required_conditions': None, 'default_previous_value': False}, {'type': 'Section', 'key': '589c', 'label': 'Signal Information', 'description': None, 'required': False, 'disabled': False, 'hidden': False, 'data_name': 'signal_information', 'default_value': None, 'visible_conditions_type': None, 'visible_conditions_behavior': 'clear', 'visible_conditions': None, 'required_conditions_type': None, 'required_conditions': None, 'display': 'inline', 'elements': [{'type': 'ChoiceField', 'key': '7840', 'label': 'Preemption', 'description': None, 'required': True, 'disabled': False, 'hidden': False, 'data_name': 'preemption', 'default_value': None, 'visible_conditions_type': None, 'visible_conditions_behavior': 'clear', 'visible_conditions': None, 'required_conditions_type': None, 'required_conditions': None, 'multiple': True, 'allow_other': False, 'choices': [{'label': 'No Preemption', 'value': 'No Preemption'}, {'label': 'Railroad', 'value': 'Railroad'}, {'label': 'Emergency Vehicle', 'value': 'Emergency Vehicle'}], 'min_length': None, 'max_length': None, 'default_previous_value': False}, {'type': 'ChoiceField', 'key': '8c05', 'label': 'Railroad Preemption', 'description': None, 'required': True, 'disabled': False, 'hidden': False, 'data_name': 'railroad_preemption', 'default_value': None, 'visible_conditions_type': 'all', 'visible_conditions_behavior': 'clear', 'visible_conditions': [{'field_key': '7840', 'operator': 'equal_to', 'value': 'Railroad'}], 'required_conditions_type': None, 'required_conditions': None, 'multiple': False, 'allow_other': True, 'choices': [{'label': 'OK', 'value': 'OK'}, {'label': 'Repaired', 'value': 'Repaired'}], 'default_previous_value': False}, {'type': 'ChoiceField', 'key': '21c6', 'label': 'Emergency Vehicle Preemption', 'description': None, 'required': True, 'disabled': False, 'hidden': False, 'data_name': 'emergency_vehicle_preemption', 'default_value': None, 'visible_conditions_type': 'all', 'visible_conditions_behavior': 'clear', 'visible_conditions': [{'field_key': '7840', 'operator': 'equal_to', 'value': 'Emergency Vehicle'}], 'required_conditions_type': None, 'required_conditions': None, 'multiple': False, 'allow_other': True, 'choices': [{'label': 'OK', 'value': 'OK'}, {'label': 'Repaired', 'value': 'Repaired'}], 'default_previous_value': False}, {'type': 'YesNoField', 'key': 'e1b4', 'label': 'Detection?', 'description': None, 'required': True, 'disabled': False, 'hidden': False, 'data_name': 'has_detection', 'default_value': None, 'visible_conditions_type': None, 'visible_conditions_behavior': 'clear', 'visible_conditions': None, 'required_conditions_type': None, 'required_conditions': None, 'positive': {'label': 'Yes', 'value': 'yes'}, 'negative': {'label': 'No', 'value': 'no'}, 'neutral': {'label': 'N/A', 'value': 'n/a'}, 'neutral_enabled': False, 'default_previous_value': False}, {'type': 'Repeatable', 'key': 'f283', 'label': 'Detection', 'description': None, 'required': False, 'disabled': False, 'hidden': False, 'data_name': 'detection', 'default_value': None, 'visible_conditions_type': 'all', 'visible_conditions_behavior': 'clear', 'visible_conditions': [{'field_key': 'e1b4', 'operator': 'equal_to', 'value': 'yes'}], 'required_conditions_type': None, 'required_conditions': None, 'elements': [{'type': 'ChoiceField', 'key': '48b8', 'label': 'Detector Type', 'description': None, 'required': True, 'disabled': False, 'hidden': False, 'data_name': 'detector_type', 'default_value': None, 'visible_conditions_type': None, 'visible_conditions_behavior': 'clear', 'visible_conditions': None, 'required_conditions_type': None, 'required_conditions': None, 'multiple': False, 'allow_other': True, 'choices': [{'label': 'Gridsmart', 'value': 'Gridsmart'}, {'label': 'Loop', 'value': 'Loop'}, {'label': 'Radar', 'value': 'Radar'}, {'label': 'Sensys', 'value': 'Sensys'}, {'label': 'Video', 'value': 'Video'}], 'default_previous_value': False}, {'type': 'ChoiceField', 'key': 'e332', 'label': 'Direction', 'description': None, 'required': True, 'disabled': False, 'hidden': False, 'data_name': 'direction', 'default_value': None, 'visible_conditions_type': 'all', 'visible_conditions_behavior': 'clear', 'visible_conditions': [{'field_key': '48b8', 'operator': 'not_equal_to', 'value': 'Gridsmart'}], 'required_conditions_type': None, 'required_conditions': None, 'multiple': False, 'allow_other': False, 'choices': [{'label': 'Northbound', 'value': 'Northbound'}, {'label': 'Southbound', 'value': 'Southbound'}, {'label': 'Eastbound', 'value': 'Eastbound'}, {'label': 'Westbound', 'value': 'Westbound'}], 'default_previous_value': False}, {'type': 'ChoiceField', 'key': 'fd6a', 'label': 'Movement', 'description': 'Choose all that apply', 'required': True, 'disabled': False, 'hidden': False, 'data_name': 'movement', 'default_value': None, 'visible_conditions_type': 'all', 'visible_conditions_behavior': 'clear', 'visible_conditions': [{'field_key': '48b8', 'operator': 'not_equal_to', 'value': 'Gridsmart'}], 'required_conditions_type': None, 'required_conditions': None, 'multiple': True, 'allow_other': True, 'choices': [{'label': 'Bicycle', 'value': 'Bicycle'}, {'label': 'Left Turn', 'value': 'Left Turn'}, {'label': 'Setback', 'value': 'Setback'}, {'label': 'Thru / Right Turn', 'value': 'Thru / Right Turn'}, {'label': 'Thru / Left Turn', 'value': 'Thru / Left Turn'}, {'label': 'Other', 'value': 'Other'}], 'min_length': 1, 'max_length': None, 'default_previous_value': False}, {'type': 'ChoiceField', 'key': 'b740', 'label': 'Status', 'description': None, 'required': True, 'disabled': False, 'hidden': False, 'data_name': 'status', 'default_value': None, 'visible_conditions_type': None, 'visible_conditions_behavior': 'clear', 'visible_conditions': None, 'required_conditions_type': None, 'required_conditions': None, 'multiple': False, 'allow_other': True, 'choices': [{'label': 'OK', 'value': 'OK'}, {'label': 'Repaired', 'value': 'Repaired'}], 'default_previous_value': False}], 'title_field_key': None, 'title_field_keys': ['48b8', 'e332', 'fd6a', 'b740'], 'geometry_types': [], 'geometry_required': False, 'min_length': None, 'max_length': None}]}, {'type': 'Section', 'key': 'aba2', 'label': 'Checklist', 'description': None, 'required': False, 'disabled': False, 'hidden': False, 'data_name': 'checklist', 'default_value': None, 'visible_conditions_type': None, 'visible_conditions_behavior': 'clear', 'visible_conditions': None, 'required_conditions_type': None, 'required_conditions': None, 'display': 'inline', 'elements': [{'type': 'ChoiceField', 'key': '20de', 'label': 'DC Isolators', 'description': None, 'required': True, 'disabled': False, 'hidden': False, 'data_name': 'dc_isolators', 'default_value': None, 'visible_conditions_type': None, 'visible_conditions_behavior': 'clear', 'visible_conditions': None, 'required_conditions_type': None, 'required_conditions': None, 'multiple': False, 'allow_other': True, 'choices': [{'label': 'OK', 'value': 'OK'}, {'label': 'Repaired', 'value': 'Repaired'}], 'default_previous_value': False}, {'type': 'ChoiceField', 'key': '6e42', 'label': 'Screw Terminals Tightness', 'description': None, 'required': True, 'disabled': False, 'hidden': False, 'data_name': 'screw_terminals_tightness', 'default_value': None, 'visible_conditions_type': None, 'visible_conditions_behavior': 'clear', 'visible_conditions': None, 'required_conditions_type': None, 'required_conditions': None, 'multiple': False, 'allow_other': True, 'choices': [{'label': 'OK', 'value': 'OK'}, {'label': 'Repaired', 'value': 'Repaired'}], 'default_previous_value': False}, {'type': 'ChoiceField', 'key': 'ecf2', 'label': 'Flashers, Flash Plugs, Flash Relays', 'description': None, 'required': True, 'disabled': False, 'hidden': False, 'data_name': 'flashers_flash_plugs_flash_relays', 'default_value': None, 'visible_conditions_type': None, 'visible_conditions_behavior': 'clear', 'visible_conditions': None, 'required_conditions_type': None, 'required_conditions': None, 'multiple': False, 'allow_other': True, 'choices': [{'label': 'OK', 'value': 'OK'}, {'label': 'Repaired', 'value': 'Repaired'}], 'default_previous_value': False}, {'type': 'ChoiceField', 'key': '4de9', 'label': 'Load Switches', 'description': 'Switches should be seated in sockets', 'required': True, 'disabled': False, 'hidden': False, 'data_name': 'load_switches', 'default_value': None, 'visible_conditions_type': None, 'visible_conditions_behavior': 'clear', 'visible_conditions': None, 'required_conditions_type': None, 'required_conditions': None, 'multiple': False, 'allow_other': True, 'choices': [{'label': 'OK', 'value': 'OK'}, {'label': 'Repaired', 'value': 'Repaired'}], 'default_previous_value': False}, {'type': 'ChoiceField', 'key': '93dd', 'label': 'Fan Operation', 'description': 'Set thermostat to 90 degrees', 'required': True, 'disabled': False, 'hidden': False, 'data_name': 'fan_operation', 'default_value': None, 'visible_conditions_type': None, 'visible_conditions_behavior': 'clear', 'visible_conditions': None, 'required_conditions_type': None, 'required_conditions': None, 'multiple': False, 'allow_other': True, 'choices': [{'label': 'OK', 'value': 'OK'}, {'label': 'Repaired', 'value': 'Repaired'}], 'default_previous_value': False}, {'type': 'ChoiceField', 'key': '8968', 'label': 'Conflict Monitor', 'description': None, 'required': True, 'disabled': False, 'hidden': False, 'data_name': 'conflict_monitor', 'default_value': None, 'visible_conditions_type': None, 'visible_conditions_behavior': 'clear', 'visible_conditions': None, 'required_conditions_type': None, 'required_conditions': None, 'multiple': False, 'allow_other': True, 'choices': [{'label': 'OK', 'value': 'OK'}, {'label': 'Replaced', 'value': 'Replaced'}], 'default_previous_value': False}, {'type': 'ChoiceField', 'key': 'eb53', 'label': 'Cabinet Interior', 'description': 'Remove dust and replace filters', 'required': True, 'disabled': False, 'hidden': False, 'data_name': 'cabinet_interior', 'default_value': None, 'visible_conditions_type': None, 'visible_conditions_behavior': 'clear', 'visible_conditions': None, 'required_conditions_type': None, 'required_conditions': None, 'multiple': False, 'allow_other': True, 'choices': [{'label': 'Cleaned', 'value': 'Cleaned'}], 'default_previous_value': False}, {'type': 'ChoiceField', 'key': '4a48', 'label': 'Signal Colors & Alignment', 'description': 'Remove dust and replace filters', 'required': True, 'disabled': False, 'hidden': False, 'data_name': 'signal_colors_alignment', 'default_value': None, 'visible_conditions_type': None, 'visible_conditions_behavior': 'clear', 'visible_conditions': None, 'required_conditions_type': None, 'required_conditions': None, 'multiple': False, 'allow_other': True, 'choices': [{'label': 'OK', 'value': 'OK'}, {'label': 'Repaired', 'value': 'Repaired'}], 'default_previous_value': False}, {'type': 'ChoiceField', 'key': '6e0a', 'label': 'Type of Ped Buttons', 'description': None, 'required': True, 'disabled': False, 'hidden': False, 'data_name': 'type_of_ped_buttons', 'default_value': None, 'visible_conditions_type': None, 'visible_conditions_behavior': 'clear', 'visible_conditions': None, 'required_conditions_type': None, 'required_conditions': None, 'multiple': False, 'allow_other': True, 'choices': [{'label': 'Push-Button', 'value': 'Push-Button'}, {'label': 'APS', 'value': 'APS'}, {'label': 'Bulldog', 'value': 'Bulldog'}, {'label': 'No Ped Buttons', 'value': 'No Ped Buttons'}], 'default_previous_value': False}, {'type': 'ChoiceField', 'key': 'ffc1', 'label': 'Ped Buttons', 'description': None, 'required': True, 'disabled': False, 'hidden': False, 'data_name': 'ped_buttons', 'default_value': None, 'visible_conditions_type': 'all', 'visible_conditions_behavior': 'clear', 'visible_conditions': [{'field_key': '6e0a', 'operator': 'not_equal_to', 'value': 'No Ped Buttons'}], 'required_conditions_type': None, 'required_conditions': None, 'multiple': False, 'allow_other': True, 'choices': [{'label': 'OK', 'value': 'OK'}, {'label': 'Repaired', 'value': 'Repaired'}], 'default_previous_value': False}, {'type': 'ChoiceField', 'key': '552f', 'label': 'APS Beepers', 'description': None, 'required': True, 'disabled': False, 'hidden': False, 'data_name': 'aps_beepers', 'default_value': None, 'visible_conditions_type': None, 'visible_conditions_behavior': 'clear', 'visible_conditions': None, 'required_conditions_type': None, 'required_conditions': None, 'multiple': False, 'allow_other': True, 'choices': [{'label': 'No APS Beepers', 'value': 'No APS Beepers'}, {'label': 'OK', 'value': 'OK'}, {'label': 'Repaired', 'value': 'Repaired'}], 'default_previous_value': False}, {'type': 'ChoiceField', 'key': '55d6', 'label': 'Controller Time', 'description': None, 'required': True, 'disabled': False, 'hidden': False, 'data_name': 'controller_time', 'default_value': None, 'visible_conditions_type': None, 'visible_conditions_behavior': 'clear', 'visible_conditions': None, 'required_conditions_type': None, 'required_conditions': None, 'multiple': False, 'allow_other': True, 'choices': [{'label': 'OK', 'value': 'OK'}, {'label': 'Repaired', 'value': 'Repaired'}], 'default_previous_value': False}, {'type': 'ChoiceField', 'key': '146e', 'label': 'Street Name Signs', 'description': None, 'required': True, 'disabled': False, 'hidden': False, 'data_name': 'street_name_signs', 'default_value': None, 'visible_conditions_type': None, 'visible_conditions_behavior': 'clear', 'visible_conditions': None, 'required_conditions_type': None, 'required_conditions': None, 'multiple': False, 'allow_other': True, 'choices': [{'label': 'OK', 'value': 'OK'}, {'label': 'Repaired', 'value': 'Repaired'}], 'default_previous_value': False}, {'type': 'ChoiceField', 'key': '609a', 'label': 'UPS', 'description': None, 'required': True, 'disabled': False, 'hidden': False, 'data_name': 'ups', 'default_value': None, 'visible_conditions_type': None, 'visible_conditions_behavior': 'clear', 'visible_conditions': None, 'required_conditions_type': None, 'required_conditions': None, 'multiple': False, 'allow_other': True, 'choices': [{'label': 'OK', 'value': 'OK'}, {'label': 'Repaired', 'value': 'Repaired'}, {'label': 'No UPS', 'value': 'No UPS'}], 'default_previous_value': False}, {'type': 'ChoiceField', 'key': '8354', 'label': 'Cameras', 'description': None, 'required': True, 'disabled': False, 'hidden': False, 'data_name': 'cameras', 'default_value': None, 'visible_conditions_type': None, 'visible_conditions_behavior': 'clear', 'visible_conditions': None, 'required_conditions_type': None, 'required_conditions': None, 'multiple': False, 'allow_other': True, 'choices': [{'label': 'OK', 'value': 'OK'}, {'label': 'Repaired', 'value': 'Repaired'}, {'label': 'No Camera', 'value': 'No Camera'}], 'default_previous_value': False}, {'type': 'ChoiceField', 'key': '8926', 'label': 'Camera Lenses', 'description': None, 'required': True, 'disabled': False, 'hidden': False, 'data_name': 'camera_lenses', 'default_value': None, 'visible_conditions_type': 'all', 'visible_conditions_behavior': 'clear', 'visible_conditions': [{'field_key': '8354', 'operator': 'not_equal_to', 'value': 'No Camera'}], 'required_conditions_type': None, 'required_conditions': None, 'multiple': False, 'allow_other': True, 'choices': [{'label': 'Cleaned', 'value': 'Cleaned'}], 'default_previous_value': False}, {'type': 'ChoiceField', 'key': 'f36f', 'label': 'Signal Head Obstructions', 'description': 'Utility lines, vegetation, etc.', 'required': True, 'disabled': False, 'hidden': False, 'data_name': 'signal_head_obstructions', 'default_value': None, 'visible_conditions_type': None, 'visible_conditions_behavior': 'clear', 'visible_conditions': None, 'required_conditions_type': None, 'required_conditions': None, 'multiple': False, 'allow_other': True, 'choices': [{'label': 'No Obstruction', 'value': 'No Obstruction'}, {'label': 'Cleared Obstruction', 'value': 'Cleared Obstruction'}], 'default_previous_value': False}, {'type': 'YesNoField', 'key': 'ea0f', 'label': 'Backup Data Key', 'description': None, 'required': True, 'disabled': False, 'hidden': False, 'data_name': 'backup_data_key', 'default_value': None, 'visible_conditions_type': None, 'visible_conditions_behavior': 'clear', 'visible_conditions': None, 'required_conditions_type': None, 'required_conditions': None, 'positive': {'label': 'Yes', 'value': 'yes'}, 'negative': {'label': 'No', 'value': 'no'}, 'neutral': {'label': 'N/A', 'value': 'n/a'}, 'neutral_enabled': False, 'default_previous_value': False}, {'type': 'YesNoField', 'key': '8594', 'label': 'Leave Rat Bait in All Pull Boxes & Cabinet', 'description': None, 'required': True, 'disabled': False, 'hidden': False, 'data_name': 'leave_rat_bait_in_all_pull_boxes_cabinet', 'default_value': None, 'visible_conditions_type': None, 'visible_conditions_behavior': 'clear', 'visible_conditions': None, 'required_conditions_type': None, 'required_conditions': None, 'positive': {'label': 'Yes', 'value': 'yes'}, 'negative': {'label': 'No', 'value': 'no'}, 'neutral': {'label': 'N/A', 'value': 'n/a'}, 'neutral_enabled': False, 'default_previous_value': False}, {'type': 'YesNoField', 'key': '5a23', 'label': 'Lube Cabinet Door Lock', 'description': 'Spray lightly', 'required': True, 'disabled': False, 'hidden': False, 'data_name': 'lube_cabinet_door_lock', 'default_value': None, 'visible_conditions_type': None, 'visible_conditions_behavior': 'clear', 'visible_conditions': None, 'required_conditions_type': None, 'required_conditions': None, 'positive': {'label': 'Yes', 'value': 'yes'}, 'negative': {'label': 'No', 'value': 'no'}, 'neutral': {'label': 'N/A', 'value': 'n/a'}, 'neutral_enabled': False, 'default_previous_value': False}, {'type': 'YesNoField', 'key': 'a460', 'label': 'Graffiti', 'description': None, 'required': True, 'disabled': False, 'hidden': False, 'data_name': 'graffiti', 'default_value': None, 'visible_conditions_type': None, 'visible_conditions_behavior': 'clear', 'visible_conditions': None, 'required_conditions_type': None, 'required_conditions': None, 'positive': {'label': 'Yes', 'value': 'yes'}, 'negative': {'label': 'No', 'value': 'no'}, 'neutral': {'label': 'N/A', 'value': 'n/a'}, 'neutral_enabled': False, 'default_previous_value': False}, {'type': 'TextField', 'key': '0d1f', 'label': 'Graffiti Description', 'description': None, 'required': True, 'disabled': False, 'hidden': False, 'data_name': 'graffiti_description', 'default_value': None, 'visible_conditions_type': 'all', 'visible_conditions_behavior': 'clear', 'visible_conditions': [{'field_key': 'a460', 'operator': 'equal_to', 'value': 'yes'}], 'required_conditions_type': None, 'required_conditions': None, 'numeric': False, 'pattern': None, 'pattern_description': None, 'min_length': None, 'max_length': None, 'default_previous_value': False}]}, {'type': 'ChoiceField', 'key': '33cc', 'label': 'Overall Intersection Condition', 'description': None, 'required': True, 'disabled': False, 'hidden': False, 'data_name': 'intersection_condition', 'default_value': None, 'visible_conditions_type': None, 'visible_conditions_behavior': 'clear', 'visible_conditions': None, 'required_conditions_type': None, 'required_conditions': None, 'multiple': False, 'allow_other': False, 'choices': [{'label': 'POOR', 'value': 'POOR'}, {'label': 'GOOD', 'value': 'GOOD'}, {'label': 'EXCELLENT', 'value': 'EXCELLENT'}], 'default_previous_value': False}, {'type': 'YesNoField', 'key': '3f80', 'label': 'Follow-Up Needed', 'description': None, 'required': True, 'disabled': False, 'hidden': False, 'data_name': 'follow_up_needed', 'default_value': None, 'visible_conditions_type': None, 'visible_conditions_behavior': 'clear', 'visible_conditions': None, 'required_conditions_type': None, 'required_conditions': None, 'positive': {'label': 'Yes', 'value': 'yes'}, 'negative': {'label': 'No', 'value': 'no'}, 'neutral': {'label': 'N/A', 'value': 'n/a'}, 'neutral_enabled': False, 'default_previous_value': False}, {'type': 'TextField', 'key': '52d5', 'label': 'Follow-Up Description', 'description': None, 'required': True, 'disabled': False, 'hidden': False, 'data_name': 'follow_up_description', 'default_value': None, 'visible_conditions_type': 'all', 'visible_conditions_behavior': 'clear', 'visible_conditions': [{'field_key': '3f80', 'operator': 'equal_to', 'value': 'yes'}], 'required_conditions_type': None, 'required_conditions': None, 'numeric': False, 'pattern': None, 'pattern_description': None, 'min_length': None, 'max_length': None, 'default_previous_value': False}, {'type': 'PhotoField', 'key': 'f95d', 'label': 'Intersection Layout', 'description': 'Draw the intersection layout and take a photo of it.', 'required': True, 'disabled': False, 'hidden': False, 'data_name': 'intersection_layout', 'default_value': None, 'visible_conditions_type': None, 'visible_conditions_behavior': 'clear', 'visible_conditions': None, 'required_conditions_type': None, 'required_conditions': None, 'min_length': 1, 'max_length': 1}, {'type': 'PhotoField', 'key': '8435', 'label': 'Other Images', 'description': 'Attach any other images of areas of concern.', 'required': False, 'disabled': False, 'hidden': False, 'data_name': 'other_images', 'default_value': None, 'visible_conditions_type': None, 'visible_conditions_behavior': 'clear', 'visible_conditions': None, 'required_conditions_type': None, 'required_conditions': None, 'min_length': None, 'max_length': None}]}}\n"
     ]
    }
   ],
   "source": [
    "# create client\n",
    "\n",
    "key = FULCRUM_CRED.get(\"api_key\")\n",
    "\n",
    "# test: Query a form from fulcrum (Preventive maintenance)\n",
    "fulcrum = fc.Fulcrum(key = key)\n",
    "\n",
    "# print(fulcrum)\n",
    "# forms = fulcrum.forms.search(url_params={'id': '44359e32-1a7f-41bd-b53e-3ebc039bd21a'})\n",
    "# print(forms)\n",
    "\n",
    "form_id = \"44359e32-1a7f-41bd-b53e-3ebc039bd21a\"\n",
    "form = fulcrum.forms.find(form_id)\n",
    "\n",
    "print(form)"
   ]
  },
  {
   "cell_type": "code",
   "execution_count": 6,
   "metadata": {},
   "outputs": [
    {
     "name": "stdout",
     "output_type": "stream",
     "text": [
      "40\n",
      "a91eae80-1723-41bf-9828-e51ef8525648\n"
     ]
    }
   ],
   "source": [
    "records = fulcrum.records.search(url_params = {\"form_id\":\"44359e32-1a7f-41bd-b53e-3ebc039bd21a\"})\n",
    "\n",
    "# print(len(records['records']))\n",
    "# print(records['records'][0]['id'])\n",
    "# records = fulcrum.records.search(url_params={'form_id': 'a1cb3ac7-146f-491a-a4a2-47737fb12074'})\n",
    "# print(len(records['records']))  # 9\n",
    "# print(records['records'][0]['id'])  # c90b0edf-0299-42df-bed4-524446d63f40"
   ]
  },
  {
   "cell_type": "code",
   "execution_count": 7,
   "metadata": {},
   "outputs": [
    {
     "data": {
      "text/plain": [
       "list"
      ]
     },
     "execution_count": 7,
     "metadata": {},
     "output_type": "execute_result"
    }
   ],
   "source": [
    "type(records[\"records\"])"
   ]
  },
  {
   "cell_type": "code",
   "execution_count": 8,
   "metadata": {},
   "outputs": [
    {
     "name": "stdout",
     "output_type": "stream",
     "text": [
      "{'status': None, 'version': 2, 'id': '929e506b-b181-4311-bf2e-3a9cd69e2590', 'created_at': '2018-08-13T15:02:09Z', 'updated_at': '2018-08-13T15:19:36Z', 'client_created_at': '2018-08-13T14:57:09Z', 'client_updated_at': '2018-08-13T15:19:32Z', 'created_by': 'Signal Tech', 'created_by_id': '1620c175-017a-4f60-b808-30860e663c50', 'updated_by': 'Signal Tech', 'updated_by_id': '1620c175-017a-4f60-b808-30860e663c50', 'created_location': {'latitude': 30.4664041, 'longitude': -97.8040593, 'altitude': 264.0, 'horizontal_accuracy': 44.265}, 'updated_location': {'latitude': 30.4668103, 'longitude': -97.8046655, 'altitude': 257.0, 'horizontal_accuracy': 12.918}, 'created_duration': 294, 'updated_duration': 16, 'edited_duration': 310, 'form_id': '44359e32-1a7f-41bd-b53e-3ebc039bd21a', 'project_id': None, 'assigned_to': None, 'assigned_to_id': None, 'form_values': {'4de9': {'other_values': [], 'choice_values': ['OK']}, '6080': {'other_values': [], 'choice_values': ['622 | FM 620 RD / PECAN PARK BLVD']}, 'ffc1': {'other_values': [], 'choice_values': ['Repaired']}, '33cc': {'other_values': [], 'choice_values': ['GOOD']}, '3f80': 'yes', '146e': {'other_values': [], 'choice_values': ['OK']}, '7840': {'other_values': [], 'choice_values': ['No Preemption']}, '93dd': {'other_values': [], 'choice_values': ['OK']}, 'ecf2': {'other_values': [], 'choice_values': ['OK']}, '52d5': 'Ups bad ', '6e0a': {'other_values': [], 'choice_values': ['Bulldog']}, 'e1b4': 'yes', 'ea0f': 'yes', 'fce3': {'other_values': [], 'choice_values': ['thomas.henry@austintexas.gov', 'toby.turner@austintexas.gov']}, '8926': {'other_values': [], 'choice_values': ['Cleaned']}, 'f36f': {'other_values': [], 'choice_values': ['No Obstruction']}, 'f283': [{'updated_at': '1534172337', 'created_location': {'latitude': 30.4662924, 'longitude': -97.8039591, 'altitude': 265.0, 'horizontal_accuracy': 10.0}, 'created_duration': 67, 'id': 'bb1b51d6-6757-4ff3-abf4-234cf20c7515', 'updated_location': {'latitude': 30.4662924, 'longitude': -97.8039591, 'altitude': 265.0, 'horizontal_accuracy': 10.0}, 'created_at': '1534172270', 'edited_duration': 67, 'form_values': {'48b8': {'other_values': [], 'choice_values': ['Video']}, 'fd6a': {'other_values': [], 'choice_values': ['Other']}, 'b740': {'other_values': ['all video is on recall'], 'choice_values': []}, 'e332': {'other_values': [], 'choice_values': ['Northbound']}}, 'updated_duration': 67, 'version': 1, 'created_by_id': '1620c175-017a-4f60-b808-30860e663c50', 'updated_by_id': '1620c175-017a-4f60-b808-30860e663c50', 'changeset_id': '74ef505d-00e0-4476-bced-ef23463b40e4', 'geometry': None}], '20de': {'other_values': [], 'choice_values': ['OK']}, 'f95d': [{'photo_id': 'cbd00bba-f4d3-4c56-86ce-b9a66623e3d5', 'caption': None}], '8354': {'other_values': [], 'choice_values': ['OK']}, '5a23': 'yes', '552f': {'other_values': [], 'choice_values': ['No APS Beepers']}, '6e42': {'other_values': [], 'choice_values': ['OK']}, '8594': 'yes', '609a': {'other_values': ['ups DOA'], 'choice_values': []}, '55d6': {'other_values': [], 'choice_values': ['OK']}, '4a48': {'other_values': [], 'choice_values': ['OK']}, 'c01c': '00:55', '3a14': '09:57', 'eb53': {'other_values': [], 'choice_values': ['Cleaned']}, '8968': {'other_values': [], 'choice_values': ['Replaced']}}, 'latitude': 30.4664041, 'longitude': -97.8040593, 'altitude': 264.0, 'speed': None, 'course': None, 'horizontal_accuracy': 44.265, 'vertical_accuracy': None}\n"
     ]
    }
   ],
   "source": [
    "print(records[\"records\"][9])"
   ]
  },
  {
   "cell_type": "code",
   "execution_count": 9,
   "metadata": {},
   "outputs": [],
   "source": [
    "PM_dataframe = pd.DataFrame.from_dict(records[\"records\"])"
   ]
  },
  {
   "cell_type": "code",
   "execution_count": 10,
   "metadata": {},
   "outputs": [
    {
     "name": "stdout",
     "output_type": "stream",
     "text": [
      "<class 'pandas.core.frame.DataFrame'>\n",
      "RangeIndex: 40 entries, 0 to 39\n",
      "Data columns (total 28 columns):\n",
      "altitude               14 non-null float64\n",
      "assigned_to            0 non-null object\n",
      "assigned_to_id         0 non-null object\n",
      "client_created_at      40 non-null object\n",
      "client_updated_at      40 non-null object\n",
      "course                 1 non-null float64\n",
      "created_at             40 non-null object\n",
      "created_by             40 non-null object\n",
      "created_by_id          40 non-null object\n",
      "created_duration       40 non-null int64\n",
      "created_location       40 non-null object\n",
      "edited_duration        40 non-null int64\n",
      "form_id                40 non-null object\n",
      "form_values            40 non-null object\n",
      "horizontal_accuracy    40 non-null float64\n",
      "id                     40 non-null object\n",
      "latitude               40 non-null float64\n",
      "longitude              40 non-null float64\n",
      "project_id             0 non-null object\n",
      "speed                  0 non-null object\n",
      "status                 0 non-null object\n",
      "updated_at             40 non-null object\n",
      "updated_by             40 non-null object\n",
      "updated_by_id          40 non-null object\n",
      "updated_duration       40 non-null int64\n",
      "updated_location       40 non-null object\n",
      "version                40 non-null int64\n",
      "vertical_accuracy      0 non-null object\n",
      "dtypes: float64(5), int64(4), object(19)\n",
      "memory usage: 8.8+ KB\n"
     ]
    }
   ],
   "source": [
    "PM_dataframe.info()"
   ]
  },
  {
   "cell_type": "code",
   "execution_count": null,
   "metadata": {},
   "outputs": [],
   "source": [
    "print(records)"
   ]
  },
  {
   "cell_type": "code",
   "execution_count": null,
   "metadata": {},
   "outputs": [],
   "source": [
    "type(form)"
   ]
  },
  {
   "cell_type": "code",
   "execution_count": null,
   "metadata": {},
   "outputs": [],
   "source": [
    "form[\"form\"][\"elements\"]"
   ]
  },
  {
   "cell_type": "code",
   "execution_count": null,
   "metadata": {},
   "outputs": [],
   "source": []
  },
  {
   "cell_type": "code",
   "execution_count": null,
   "metadata": {},
   "outputs": [],
   "source": []
  }
 ],
 "metadata": {
  "kernelspec": {
   "display_name": "Python 3",
   "language": "python",
   "name": "python3"
  },
  "language_info": {
   "codemirror_mode": {
    "name": "ipython",
    "version": 3
   },
   "file_extension": ".py",
   "mimetype": "text/x-python",
   "name": "python",
   "nbconvert_exporter": "python",
   "pygments_lexer": "ipython3",
   "version": "3.6.5"
  }
 },
 "nbformat": 4,
 "nbformat_minor": 2
}
